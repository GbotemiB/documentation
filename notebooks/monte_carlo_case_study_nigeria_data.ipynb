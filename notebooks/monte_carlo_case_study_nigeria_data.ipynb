{
 "cells": [
  {
   "cell_type": "markdown",
   "metadata": {},
   "source": [
    "# Monte-Carlo Case Study using Nigeria's Power Data\n",
    "This Jupyter Notebook serves as a case study for analyzing simulations created using Monte-Carlo method applied to Nigeria's power data.\n",
    "\n",
    "## Introduction\n",
    "\n",
    "The goal of this notebook is to analyze the results of the Monte-Carlo simulations and gain insights into the power system of Nigeria. It utilizes the Monte Carlo method to generate multiple scenarios and assess the uncertainty in the power system's performance.\n",
    "\n",
    "The Monte Carlo method is a statistical technique that involves running multiple simulations with randomly sampled input parameters to estimate the distribution of the output variables. By applying this method to PyPSA-Earth model, we can assess the reliability and robustness of the power system under different scenarios and identify potential areas for improvement.\n",
    "\n",
    "By following this notebook, you will be able to understand the applied Monte-Carlo methodology, explore the power system simulations, and gain insights into Nigeria's power data.\n"
   ]
  },
  {
   "cell_type": "markdown",
   "metadata": {},
   "source": [
    "## Sensitivity Analysis\n",
    "\n",
    "Sensitivity analysis helps us explore how variations in input parameters affect the model’s output. This notebook reproduces the Nigeria model previously created in the monte_carlo_tutorial notebook. These inputs might include energy prices, efficiency factors, renewable energy availability, and demand patterns.\n",
    "\n",
    "Decision-makers use this information to understand the implications of different choices on system performance and costs. \n",
    "Energy models inform policy decisions. Sensitivity analysis helps policymakers understand which factors drive energy transitions. \n",
    "\n",
    "Additionally, sensitivity analysis guides resource allocation by pinpointing critical variables for optimal solutions. It aids in communicating uncertainties to stakeholders and informs scenario planning for future energy scenarios. The analysis also validates models by checking if changes in parameters align with expected outcomes, ensuring model reliability."
   ]
  },
  {
   "cell_type": "markdown",
   "metadata": {},
   "source": [
    "### Loading Neccessary Libraries"
   ]
  },
  {
   "cell_type": "code",
   "execution_count": 1,
   "metadata": {},
   "outputs": [],
   "source": [
    "# change current directory to parent folder\n",
    "import os\n",
    "import sys\n",
    "\n",
    "if not os.path.isdir(\"pypsa-earth\"):\n",
    "    os.chdir(\"../..\")\n",
    "sys.path.append(os.getcwd()+\"/pypsa-earth/scripts\")\n"
   ]
  },
  {
   "cell_type": "code",
   "execution_count": 2,
   "metadata": {},
   "outputs": [
    {
     "name": "stderr",
     "output_type": "stream",
     "text": [
      "/Users/gbotemi/miniconda3/envs/pypsa-earth/lib/python3.10/site-packages/pypsa/networkclustering.py:16: UserWarning: The namespace `pypsa.networkclustering` is deprecated and will be removed in PyPSA v0.24. Please use `pypsa.clustering.spatial instead`. \n",
      "  warnings.warn(\n"
     ]
    }
   ],
   "source": [
    "import pypsa\n",
    "import numpy as np\n",
    "import pandas as pd\n",
    "import matplotlib.pyplot as plt\n",
    "import seaborn as sns\n",
    "from IPython.display import Image\n",
    "import statsmodels.api as sm\n",
    "from scipy.stats.mstats import zscore\n",
    "from scipy import stats\n",
    "from scripts.monte_carlo import (\n",
    "            monte_carlo_sampling_pydoe2, monte_carlo_sampling_scipy, \n",
    "            monte_carlo_sampling_chaospy, validate_parameters)\n",
    "import logging\n",
    "import yaml\n",
    "import warnings\n",
    "warnings.filterwarnings('ignore')\n",
    "\n",
    "pd.set_option('display.max_columns', 500)\n",
    "\n",
    "# disable logging from imported modules \n",
    "logging.disable(sys.maxsize)"
   ]
  },
  {
   "cell_type": "code",
   "execution_count": 3,
   "metadata": {},
   "outputs": [],
   "source": [
    "# load the config file used for the monte carlo simulation\n",
    "with open(\"mc/pypsa-earth/config.yaml\", \"r\") as stream:\n",
    "    config = yaml.safe_load(stream)[\"monte_carlo\"]"
   ]
  },
  {
   "cell_type": "markdown",
   "metadata": {},
   "source": [
    "### Loading simulation results"
   ]
  },
  {
   "cell_type": "code",
   "execution_count": 4,
   "metadata": {},
   "outputs": [],
   "source": [
    "# load solved networks into a list\n",
    "network_list = []\n",
    "\n",
    "for count in range(0,49):\n",
    "    # set directory of solved networks in results folder\n",
    "    path = f\"mc/pypsa-earth/results/NG/networks/elec_s_10_ec_lcopt_Co2L-24H_m{count}.nc\"\n",
    "    network = pypsa.Network(path)\n",
    "    network_list.append(network)\n",
    "\n",
    "logging.info(\"All Networks loaded successfully\")"
   ]
  },
  {
   "cell_type": "code",
   "execution_count": 5,
   "metadata": {},
   "outputs": [],
   "source": [
    "# load network objective values\n",
    "network_obejective_list = []\n",
    "\n",
    "for idx in network_list:\n",
    "    obj = idx.objective / 1e9\n",
    "    network_obejective_list.append(obj)\n",
    "logging.info(\"objective loaded completely\")"
   ]
  },
  {
   "cell_type": "markdown",
   "metadata": {},
   "source": [
    "### Reproducing the Parameters for Monte-Carlo Simulation"
   ]
  },
  {
   "cell_type": "code",
   "execution_count": 6,
   "metadata": {},
   "outputs": [],
   "source": [
    "# removes key value pairs with empty value e.g. []\n",
    "monte_carlo_pypsa_features = [k for k in config[\"uncertainties\"].keys() if k]\n",
    "monte_carlo_options = config[\"options\"]\n",
    "\n",
    "# only counts features when specified in config\n",
    "n_features = len(monte_carlo_pypsa_features)\n",
    "samples = monte_carlo_options.get(\"samples\")\n",
    "sampling_strategy = monte_carlo_options.get(\"sampling_strategy\")\n",
    "uncertainties_values = config[\"uncertainties\"].values()\n",
    "seed = monte_carlo_options.get(\"seed\")\n",
    "\n",
    "# PARAMETERS VALIDATION\n",
    "# validates the parameters supplied from config file\n",
    "validate_parameters(sampling_strategy, samples, uncertainties_values)\n",
    "\n",
    "# SCENARIO CREATION / SAMPLING STRATEGY\n",
    "###\n",
    "if sampling_strategy == \"pydoe2\":\n",
    "    lh = monte_carlo_sampling_pydoe2(\n",
    "        n_features,\n",
    "        samples,\n",
    "        uncertainties_values,\n",
    "        random_state=seed,\n",
    "        criterion=None,\n",
    "        iteration=None,\n",
    "        correlation_matrix=None,\n",
    "    )\n",
    "if sampling_strategy == \"scipy\":\n",
    "    lh = monte_carlo_sampling_scipy(\n",
    "        n_features,\n",
    "        samples,\n",
    "        uncertainties_values,\n",
    "        seed=seed,\n",
    "        strength=2,\n",
    "        optimization=None,\n",
    "    )\n",
    "if sampling_strategy == \"chaospy\":\n",
    "    lh = monte_carlo_sampling_chaospy(\n",
    "        n_features, samples, uncertainties_values, seed=seed, rule=\"latin_hypercube\"\n",
    "    )"
   ]
  },
  {
   "cell_type": "code",
   "execution_count": 7,
   "metadata": {},
   "outputs": [],
   "source": [
    "# reassign the values of the parameters and the objective values from the solved network\n",
    "x = lh\n",
    "y = network_obejective_list"
   ]
  },
  {
   "cell_type": "markdown",
   "metadata": {},
   "source": [
    "### Standardised Regression Coefficient\n",
    "\n",
    "Standardised Regression Coefficient otherwise known as beta corefficients shows how much the outcome (dependent variable) changes when one input (independent variable) changes "
   ]
  },
  {
   "cell_type": "code",
   "execution_count": 8,
   "metadata": {},
   "outputs": [],
   "source": [
    "src = sm.OLS(zscore(y), zscore(x)).fit()\n",
    "src_beta_coefficients = src.params"
   ]
  },
  {
   "cell_type": "code",
   "execution_count": 9,
   "metadata": {},
   "outputs": [
    {
     "data": {
      "text/html": [
       "<table class=\"simpletable\">\n",
       "<caption>OLS Regression Results</caption>\n",
       "<tr>\n",
       "  <th>Dep. Variable:</th>            <td>y</td>        <th>  R-squared (uncentered):</th>      <td>   0.668</td>\n",
       "</tr>\n",
       "<tr>\n",
       "  <th>Model:</th>                   <td>OLS</td>       <th>  Adj. R-squared (uncentered):</th> <td>   0.613</td>\n",
       "</tr>\n",
       "<tr>\n",
       "  <th>Method:</th>             <td>Least Squares</td>  <th>  F-statistic:       </th>          <td>   12.08</td>\n",
       "</tr>\n",
       "<tr>\n",
       "  <th>Date:</th>             <td>Mon, 18 Mar 2024</td> <th>  Prob (F-statistic):</th>          <td>2.50e-08</td>\n",
       "</tr>\n",
       "<tr>\n",
       "  <th>Time:</th>                 <td>17:11:19</td>     <th>  Log-Likelihood:    </th>          <td> -42.506</td>\n",
       "</tr>\n",
       "<tr>\n",
       "  <th>No. Observations:</th>      <td>    49</td>      <th>  AIC:               </th>          <td>   99.01</td>\n",
       "</tr>\n",
       "<tr>\n",
       "  <th>Df Residuals:</th>          <td>    42</td>      <th>  BIC:               </th>          <td>   112.3</td>\n",
       "</tr>\n",
       "<tr>\n",
       "  <th>Df Model:</th>              <td>     7</td>      <th>                     </th>              <td> </td>   \n",
       "</tr>\n",
       "<tr>\n",
       "  <th>Covariance Type:</th>      <td>nonrobust</td>    <th>                     </th>              <td> </td>   \n",
       "</tr>\n",
       "</table>\n",
       "<table class=\"simpletable\">\n",
       "<tr>\n",
       "   <td></td>     <th>coef</th>     <th>std err</th>      <th>t</th>      <th>P>|t|</th>  <th>[0.025</th>    <th>0.975]</th>  \n",
       "</tr>\n",
       "<tr>\n",
       "  <th>x1</th> <td>    0.7293</td> <td>    0.093</td> <td>    7.834</td> <td> 0.000</td> <td>    0.541</td> <td>    0.917</td>\n",
       "</tr>\n",
       "<tr>\n",
       "  <th>x2</th> <td>   -0.1198</td> <td>    0.094</td> <td>   -1.276</td> <td> 0.209</td> <td>   -0.309</td> <td>    0.070</td>\n",
       "</tr>\n",
       "<tr>\n",
       "  <th>x3</th> <td>   -0.1697</td> <td>    0.100</td> <td>   -1.703</td> <td> 0.096</td> <td>   -0.371</td> <td>    0.031</td>\n",
       "</tr>\n",
       "<tr>\n",
       "  <th>x4</th> <td>    0.3370</td> <td>    0.098</td> <td>    3.436</td> <td> 0.001</td> <td>    0.139</td> <td>    0.535</td>\n",
       "</tr>\n",
       "<tr>\n",
       "  <th>x5</th> <td>    0.1826</td> <td>    0.096</td> <td>    1.898</td> <td> 0.065</td> <td>   -0.012</td> <td>    0.377</td>\n",
       "</tr>\n",
       "<tr>\n",
       "  <th>x6</th> <td>   -0.0295</td> <td>    0.097</td> <td>   -0.303</td> <td> 0.763</td> <td>   -0.226</td> <td>    0.167</td>\n",
       "</tr>\n",
       "<tr>\n",
       "  <th>x7</th> <td>   -0.0671</td> <td>    0.092</td> <td>   -0.728</td> <td> 0.470</td> <td>   -0.253</td> <td>    0.119</td>\n",
       "</tr>\n",
       "</table>\n",
       "<table class=\"simpletable\">\n",
       "<tr>\n",
       "  <th>Omnibus:</th>       <td> 7.069</td> <th>  Durbin-Watson:     </th> <td>   2.258</td>\n",
       "</tr>\n",
       "<tr>\n",
       "  <th>Prob(Omnibus):</th> <td> 0.029</td> <th>  Jarque-Bera (JB):  </th> <td>   7.828</td>\n",
       "</tr>\n",
       "<tr>\n",
       "  <th>Skew:</th>          <td>-0.487</td> <th>  Prob(JB):          </th> <td>  0.0200</td>\n",
       "</tr>\n",
       "<tr>\n",
       "  <th>Kurtosis:</th>      <td> 4.699</td> <th>  Cond. No.          </th> <td>    1.96</td>\n",
       "</tr>\n",
       "</table><br/><br/>Notes:<br/>[1] R² is computed without centering (uncentered) since the model does not contain a constant.<br/>[2] Standard Errors assume that the covariance matrix of the errors is correctly specified."
      ],
      "text/latex": [
       "\\begin{center}\n",
       "\\begin{tabular}{lclc}\n",
       "\\toprule\n",
       "\\textbf{Dep. Variable:}    &        y         & \\textbf{  R-squared (uncentered):}      &     0.668   \\\\\n",
       "\\textbf{Model:}            &       OLS        & \\textbf{  Adj. R-squared (uncentered):} &     0.613   \\\\\n",
       "\\textbf{Method:}           &  Least Squares   & \\textbf{  F-statistic:       }          &     12.08   \\\\\n",
       "\\textbf{Date:}             & Mon, 18 Mar 2024 & \\textbf{  Prob (F-statistic):}          &  2.50e-08   \\\\\n",
       "\\textbf{Time:}             &     17:11:19     & \\textbf{  Log-Likelihood:    }          &   -42.506   \\\\\n",
       "\\textbf{No. Observations:} &          49      & \\textbf{  AIC:               }          &     99.01   \\\\\n",
       "\\textbf{Df Residuals:}     &          42      & \\textbf{  BIC:               }          &     112.3   \\\\\n",
       "\\textbf{Df Model:}         &           7      & \\textbf{                     }          &             \\\\\n",
       "\\textbf{Covariance Type:}  &    nonrobust     & \\textbf{                     }          &             \\\\\n",
       "\\bottomrule\n",
       "\\end{tabular}\n",
       "\\begin{tabular}{lcccccc}\n",
       "            & \\textbf{coef} & \\textbf{std err} & \\textbf{t} & \\textbf{P$> |$t$|$} & \\textbf{[0.025} & \\textbf{0.975]}  \\\\\n",
       "\\midrule\n",
       "\\textbf{x1} &       0.7293  &        0.093     &     7.834  &         0.000        &        0.541    &        0.917     \\\\\n",
       "\\textbf{x2} &      -0.1198  &        0.094     &    -1.276  &         0.209        &       -0.309    &        0.070     \\\\\n",
       "\\textbf{x3} &      -0.1697  &        0.100     &    -1.703  &         0.096        &       -0.371    &        0.031     \\\\\n",
       "\\textbf{x4} &       0.3370  &        0.098     &     3.436  &         0.001        &        0.139    &        0.535     \\\\\n",
       "\\textbf{x5} &       0.1826  &        0.096     &     1.898  &         0.065        &       -0.012    &        0.377     \\\\\n",
       "\\textbf{x6} &      -0.0295  &        0.097     &    -0.303  &         0.763        &       -0.226    &        0.167     \\\\\n",
       "\\textbf{x7} &      -0.0671  &        0.092     &    -0.728  &         0.470        &       -0.253    &        0.119     \\\\\n",
       "\\bottomrule\n",
       "\\end{tabular}\n",
       "\\begin{tabular}{lclc}\n",
       "\\textbf{Omnibus:}       &  7.069 & \\textbf{  Durbin-Watson:     } &    2.258  \\\\\n",
       "\\textbf{Prob(Omnibus):} &  0.029 & \\textbf{  Jarque-Bera (JB):  } &    7.828  \\\\\n",
       "\\textbf{Skew:}          & -0.487 & \\textbf{  Prob(JB):          } &   0.0200  \\\\\n",
       "\\textbf{Kurtosis:}      &  4.699 & \\textbf{  Cond. No.          } &     1.96  \\\\\n",
       "\\bottomrule\n",
       "\\end{tabular}\n",
       "%\\caption{OLS Regression Results}\n",
       "\\end{center}\n",
       "\n",
       "Notes: \\newline\n",
       " [1] R² is computed without centering (uncentered) since the model does not contain a constant. \\newline\n",
       " [2] Standard Errors assume that the covariance matrix of the errors is correctly specified."
      ],
      "text/plain": [
       "<class 'statsmodels.iolib.summary.Summary'>\n",
       "\"\"\"\n",
       "                                 OLS Regression Results                                \n",
       "=======================================================================================\n",
       "Dep. Variable:                      y   R-squared (uncentered):                   0.668\n",
       "Model:                            OLS   Adj. R-squared (uncentered):              0.613\n",
       "Method:                 Least Squares   F-statistic:                              12.08\n",
       "Date:                Mon, 18 Mar 2024   Prob (F-statistic):                    2.50e-08\n",
       "Time:                        17:11:19   Log-Likelihood:                         -42.506\n",
       "No. Observations:                  49   AIC:                                      99.01\n",
       "Df Residuals:                      42   BIC:                                      112.3\n",
       "Df Model:                           7                                                  \n",
       "Covariance Type:            nonrobust                                                  \n",
       "==============================================================================\n",
       "                 coef    std err          t      P>|t|      [0.025      0.975]\n",
       "------------------------------------------------------------------------------\n",
       "x1             0.7293      0.093      7.834      0.000       0.541       0.917\n",
       "x2            -0.1198      0.094     -1.276      0.209      -0.309       0.070\n",
       "x3            -0.1697      0.100     -1.703      0.096      -0.371       0.031\n",
       "x4             0.3370      0.098      3.436      0.001       0.139       0.535\n",
       "x5             0.1826      0.096      1.898      0.065      -0.012       0.377\n",
       "x6            -0.0295      0.097     -0.303      0.763      -0.226       0.167\n",
       "x7            -0.0671      0.092     -0.728      0.470      -0.253       0.119\n",
       "==============================================================================\n",
       "Omnibus:                        7.069   Durbin-Watson:                   2.258\n",
       "Prob(Omnibus):                  0.029   Jarque-Bera (JB):                7.828\n",
       "Skew:                          -0.487   Prob(JB):                       0.0200\n",
       "Kurtosis:                       4.699   Cond. No.                         1.96\n",
       "==============================================================================\n",
       "\n",
       "Notes:\n",
       "[1] R² is computed without centering (uncentered) since the model does not contain a constant.\n",
       "[2] Standard Errors assume that the covariance matrix of the errors is correctly specified.\n",
       "\"\"\""
      ]
     },
     "execution_count": 9,
     "metadata": {},
     "output_type": "execute_result"
    }
   ],
   "source": [
    "src.summary()"
   ]
  },
  {
   "cell_type": "code",
   "execution_count": 10,
   "metadata": {},
   "outputs": [
    {
     "data": {
      "image/png": "[encoded data removed]",
      "text/plain": [
       "<Figure size 640x480 with 1 Axes>"
      ]
     },
     "metadata": {},
     "output_type": "display_data"
    }
   ],
   "source": [
    "# plot the beta coefficients\n",
    "labels = ['loads_t+p_set', 'gen_t+p_max_pu+solar', 'gen_t+p_max_pu+onwind',\n",
    "          'gen_t+cc+solar', 'gen_t+cc+onwind', 'gen_t+w+onwind', 'gen_t+w+solar']\n",
    "sns.barplot(src_beta_coefficients)\n",
    "plt.title(\"Beta coefficients of the parameters\")\n",
    "plt.xticks(np.arange(7), labels, rotation=90)\n",
    "plt.show()"
   ]
  },
  {
   "cell_type": "markdown",
   "metadata": {},
   "source": [
    "Here is labelling for the x-axis of the plots with regards to the selected parameters\n",
    "\n",
    "0: 'loads_t.p_set (loads_t+p_set)<br> \n",
    "1: 'generators_t.p_max_pu.loc[:, n.generators.carrier == \"solar\"]' (gen_t+p_max_pu+solar)<br>\n",
    "2: 'generators_t.p_max_pu.loc[:, n.generators.carrier == \"onwind\"]' (gen_t+p_max_pu+onwind)<br>\n",
    "3: 'generators.capital_cost.loc[n.generators.carrier == \"solar\"]' (gen_t+cc+solar)<br>\n",
    "4: 'generators.capital_cost.loc[n.generators.carrier == \"onwind\"]' (gen_t+cc+onwind)<br>\n",
    "5: 'generators.weight.loc[n.generators.carrier == \"onwind\"]' (gen_t+w+onwind)<br>\n",
    "6: 'generators.weight.loc[n.generators.carrier == \"solar\"] (gen_t+w+solar)"
   ]
  },
  {
   "cell_type": "markdown",
   "metadata": {},
   "source": [
    "### Partial Correlation Coefficients\n",
    "\n",
    "Partial Correlation Coefficients measures the strength of the relationship between two variables while removing the influence of other factors"
   ]
  },
  {
   "cell_type": "code",
   "execution_count": 11,
   "metadata": {},
   "outputs": [],
   "source": [
    "pcc = np.zeros(shape=(x.shape[1],))\n",
    "\n",
    "for idx in range(x.shape[1]):\n",
    "    r, _ = stats.pearsonr(x[:,idx], y)\n",
    "    pcc[idx] = r\n"
   ]
  },
  {
   "cell_type": "code",
   "execution_count": 12,
   "metadata": {},
   "outputs": [
    {
     "data": {
      "image/png": "[encoded data removed]",
      "text/plain": [
       "<Figure size 640x480 with 1 Axes>"
      ]
     },
     "metadata": {},
     "output_type": "display_data"
    }
   ],
   "source": [
    "# plot the pearson correlation coefficients\n",
    "labels = ['loads_t+p_set', 'gen_t+p_max_pu+solar', 'gen_t+p_max_pu+onwind',\n",
    "          'gen_t+cc+solar', 'gen_t+cc+onwind', 'gen_t+w+onwind', 'gen_t+w+solar']\n",
    "sns.barplot(pcc)\n",
    "plt.title(\"Pearson correlation coefficients of the parameters\")\n",
    "plt.xticks(np.arange(7), labels, rotation=90)\n",
    "plt.show()"
   ]
  },
  {
   "cell_type": "markdown",
   "metadata": {},
   "source": [
    "The Monte Carlo sensitivity analysis conducted using Partial Correlation Coefficients (PCC) and Standardized Regression Coefficients (SRC) reveals that the parameter `load` exhibits greater significance compared to other parameters. This finding underscores the crucial role of the `load` parameter in influencing the outcomes of the model. Understanding the relative importance of various parameters is essential for decision-makers to prioritize interventions and allocate resources effectively. Consequently, this insight can inform strategic planning and policy formulation processes, enabling stakeholders to make informed decisions that maximize system performance and optimize outcomes."
   ]
  }
 ],
 "metadata": {
  "kernelspec": {
   "display_name": "pypsa-earth",
   "language": "python",
   "name": "python3"
  },
  "language_info": {
   "codemirror_mode": {
    "name": "ipython",
    "version": 3
   },
   "file_extension": ".py",
   "mimetype": "text/x-python",
   "name": "python",
   "nbconvert_exporter": "python",
   "pygments_lexer": "ipython3",
   "version": "3.10.13"
  }
 },
 "nbformat": 4,
 "nbformat_minor": 2
}
