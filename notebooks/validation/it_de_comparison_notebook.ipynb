{
 "cells": [
  {
   "cell_type": "code",
   "execution_count": 1,
   "metadata": {},
   "outputs": [
    {
     "name": "stderr",
     "output_type": "stream",
     "text": [
      "/home/gbotemi/miniconda3/envs/pypsa-earth/lib/python3.10/site-packages/pypsa/networkclustering.py:16: UserWarning:\n",
      "\n",
      "The namespace `pypsa.networkclustering` is deprecated and will be removed in PyPSA v0.24. Please use `pypsa.clustering.spatial instead`. \n",
      "\n"
     ]
    }
   ],
   "source": [
    "import pypsa\n",
    "import pandas as pd\n",
    "import numpy as np\n",
    "import matplotlib.pyplot as plt\n",
    "import geopandas as gpd\n",
    "from shapely import wkt\n",
    "\n",
    "pd.set_option(\"display.max_columns\", 1000)"
   ]
  },
  {
   "cell_type": "code",
   "execution_count": 2,
   "metadata": {},
   "outputs": [],
   "source": [
    "# links\n",
    "# https://drive.google.com/drive/folders/18dV790r11hHKIwpbyDBaxMV4XbhBFQde?usp=drive_link"
   ]
  },
  {
   "cell_type": "code",
   "execution_count": 3,
   "metadata": {},
   "outputs": [
    {
     "name": "stderr",
     "output_type": "stream",
     "text": [
      "INFO:pypsa.io:Imported network elec-entsoe.nc has buses, carriers, generators, lines, links, loads, storage_units, transformers\n"
     ]
    }
   ],
   "source": [
    "# entsoe network file\n",
    "# entsoe_nc = pypsa.Network(\"elec-entsoe.nc\")"
   ]
  },
  {
   "cell_type": "code",
   "execution_count": 4,
   "metadata": {},
   "outputs": [
    {
     "data": {
      "text/html": [
       "<div>\n",
       "<style scoped>\n",
       "    .dataframe tbody tr th:only-of-type {\n",
       "        vertical-align: middle;\n",
       "    }\n",
       "\n",
       "    .dataframe tbody tr th {\n",
       "        vertical-align: top;\n",
       "    }\n",
       "\n",
       "    .dataframe thead th {\n",
       "        text-align: right;\n",
       "    }\n",
       "</style>\n",
       "<table border=\"1\" class=\"dataframe\">\n",
       "  <thead>\n",
       "    <tr style=\"text-align: right;\">\n",
       "      <th></th>\n",
       "      <th>bus0</th>\n",
       "      <th>bus1</th>\n",
       "      <th>v_nom</th>\n",
       "      <th>num_parallel</th>\n",
       "      <th>length</th>\n",
       "      <th>underground</th>\n",
       "      <th>under_construction</th>\n",
       "      <th>tags</th>\n",
       "      <th>geometry</th>\n",
       "      <th>type</th>\n",
       "      <th>s_max_pu</th>\n",
       "      <th>s_nom</th>\n",
       "      <th>capital_cost</th>\n",
       "      <th>x</th>\n",
       "      <th>r</th>\n",
       "      <th>g</th>\n",
       "      <th>b</th>\n",
       "      <th>s_nom_extendable</th>\n",
       "      <th>s_nom_min</th>\n",
       "      <th>s_nom_max</th>\n",
       "      <th>build_year</th>\n",
       "      <th>lifetime</th>\n",
       "      <th>carrier</th>\n",
       "      <th>terrain_factor</th>\n",
       "      <th>v_ang_min</th>\n",
       "      <th>v_ang_max</th>\n",
       "      <th>sub_network</th>\n",
       "      <th>x_pu</th>\n",
       "      <th>r_pu</th>\n",
       "      <th>g_pu</th>\n",
       "      <th>b_pu</th>\n",
       "      <th>x_pu_eff</th>\n",
       "      <th>r_pu_eff</th>\n",
       "      <th>s_nom_opt</th>\n",
       "    </tr>\n",
       "    <tr>\n",
       "      <th>Line</th>\n",
       "      <th></th>\n",
       "      <th></th>\n",
       "      <th></th>\n",
       "      <th></th>\n",
       "      <th></th>\n",
       "      <th></th>\n",
       "      <th></th>\n",
       "      <th></th>\n",
       "      <th></th>\n",
       "      <th></th>\n",
       "      <th></th>\n",
       "      <th></th>\n",
       "      <th></th>\n",
       "      <th></th>\n",
       "      <th></th>\n",
       "      <th></th>\n",
       "      <th></th>\n",
       "      <th></th>\n",
       "      <th></th>\n",
       "      <th></th>\n",
       "      <th></th>\n",
       "      <th></th>\n",
       "      <th></th>\n",
       "      <th></th>\n",
       "      <th></th>\n",
       "      <th></th>\n",
       "      <th></th>\n",
       "      <th></th>\n",
       "      <th></th>\n",
       "      <th></th>\n",
       "      <th></th>\n",
       "      <th></th>\n",
       "      <th></th>\n",
       "      <th></th>\n",
       "    </tr>\n",
       "  </thead>\n",
       "  <tbody>\n",
       "    <tr>\n",
       "      <th>8968</th>\n",
       "      <td>1771</td>\n",
       "      <td>1774</td>\n",
       "      <td>220</td>\n",
       "      <td>1.0</td>\n",
       "      <td>43.467839</td>\n",
       "      <td>False</td>\n",
       "      <td>False</td>\n",
       "      <td></td>\n",
       "      <td>LINESTRING(-6.96214005610054 38.9081662916356,...</td>\n",
       "      <td>Al/St 240/40 2-bundle 220.0</td>\n",
       "      <td>0.7</td>\n",
       "      <td>491.556019</td>\n",
       "      <td>2235.122095</td>\n",
       "      <td>0.0</td>\n",
       "      <td>0.0</td>\n",
       "      <td>0.0</td>\n",
       "      <td>0.0</td>\n",
       "      <td>False</td>\n",
       "      <td>0.0</td>\n",
       "      <td>inf</td>\n",
       "      <td>0</td>\n",
       "      <td>inf</td>\n",
       "      <td></td>\n",
       "      <td>1.0</td>\n",
       "      <td>-inf</td>\n",
       "      <td>inf</td>\n",
       "      <td></td>\n",
       "      <td>0.0</td>\n",
       "      <td>0.0</td>\n",
       "      <td>0.0</td>\n",
       "      <td>0.0</td>\n",
       "      <td>0.0</td>\n",
       "      <td>0.0</td>\n",
       "      <td>0.0</td>\n",
       "    </tr>\n",
       "    <tr>\n",
       "      <th>9005</th>\n",
       "      <td>2774</td>\n",
       "      <td>2776</td>\n",
       "      <td>220</td>\n",
       "      <td>1.0</td>\n",
       "      <td>11.705938</td>\n",
       "      <td>False</td>\n",
       "      <td>False</td>\n",
       "      <td></td>\n",
       "      <td>LINESTRING(-1.00930817295372 41.3431267158445,...</td>\n",
       "      <td>Al/St 240/40 2-bundle 220.0</td>\n",
       "      <td>0.7</td>\n",
       "      <td>491.556019</td>\n",
       "      <td>601.920908</td>\n",
       "      <td>0.0</td>\n",
       "      <td>0.0</td>\n",
       "      <td>0.0</td>\n",
       "      <td>0.0</td>\n",
       "      <td>False</td>\n",
       "      <td>0.0</td>\n",
       "      <td>inf</td>\n",
       "      <td>0</td>\n",
       "      <td>inf</td>\n",
       "      <td></td>\n",
       "      <td>1.0</td>\n",
       "      <td>-inf</td>\n",
       "      <td>inf</td>\n",
       "      <td></td>\n",
       "      <td>0.0</td>\n",
       "      <td>0.0</td>\n",
       "      <td>0.0</td>\n",
       "      <td>0.0</td>\n",
       "      <td>0.0</td>\n",
       "      <td>0.0</td>\n",
       "      <td>0.0</td>\n",
       "    </tr>\n",
       "    <tr>\n",
       "      <th>9316</th>\n",
       "      <td>3576</td>\n",
       "      <td>3577</td>\n",
       "      <td>220</td>\n",
       "      <td>1.0</td>\n",
       "      <td>10.765484</td>\n",
       "      <td>False</td>\n",
       "      <td>False</td>\n",
       "      <td></td>\n",
       "      <td>LINESTRING(7.05226243630703 47.8010466193602,7...</td>\n",
       "      <td>Al/St 240/40 2-bundle 220.0</td>\n",
       "      <td>0.7</td>\n",
       "      <td>491.556019</td>\n",
       "      <td>553.562611</td>\n",
       "      <td>0.0</td>\n",
       "      <td>0.0</td>\n",
       "      <td>0.0</td>\n",
       "      <td>0.0</td>\n",
       "      <td>False</td>\n",
       "      <td>0.0</td>\n",
       "      <td>inf</td>\n",
       "      <td>0</td>\n",
       "      <td>inf</td>\n",
       "      <td></td>\n",
       "      <td>1.0</td>\n",
       "      <td>-inf</td>\n",
       "      <td>inf</td>\n",
       "      <td></td>\n",
       "      <td>0.0</td>\n",
       "      <td>0.0</td>\n",
       "      <td>0.0</td>\n",
       "      <td>0.0</td>\n",
       "      <td>0.0</td>\n",
       "      <td>0.0</td>\n",
       "      <td>0.0</td>\n",
       "    </tr>\n",
       "    <tr>\n",
       "      <th>11229</th>\n",
       "      <td>3792</td>\n",
       "      <td>3794</td>\n",
       "      <td>380</td>\n",
       "      <td>2.0</td>\n",
       "      <td>20.533361</td>\n",
       "      <td>False</td>\n",
       "      <td>False</td>\n",
       "      <td></td>\n",
       "      <td>LINESTRING(10.2047502877043 48.6231969454801,1...</td>\n",
       "      <td>Al/St 240/40 4-bundle 380.0</td>\n",
       "      <td>0.7</td>\n",
       "      <td>3396.205223</td>\n",
       "      <td>1055.828178</td>\n",
       "      <td>0.0</td>\n",
       "      <td>0.0</td>\n",
       "      <td>0.0</td>\n",
       "      <td>0.0</td>\n",
       "      <td>False</td>\n",
       "      <td>0.0</td>\n",
       "      <td>inf</td>\n",
       "      <td>0</td>\n",
       "      <td>inf</td>\n",
       "      <td></td>\n",
       "      <td>1.0</td>\n",
       "      <td>-inf</td>\n",
       "      <td>inf</td>\n",
       "      <td></td>\n",
       "      <td>0.0</td>\n",
       "      <td>0.0</td>\n",
       "      <td>0.0</td>\n",
       "      <td>0.0</td>\n",
       "      <td>0.0</td>\n",
       "      <td>0.0</td>\n",
       "      <td>0.0</td>\n",
       "    </tr>\n",
       "    <tr>\n",
       "      <th>11228</th>\n",
       "      <td>3793</td>\n",
       "      <td>3794</td>\n",
       "      <td>380</td>\n",
       "      <td>2.0</td>\n",
       "      <td>14.408688</td>\n",
       "      <td>False</td>\n",
       "      <td>False</td>\n",
       "      <td></td>\n",
       "      <td>LINESTRING(10.1706712730649 48.4950605419181,1...</td>\n",
       "      <td>Al/St 240/40 4-bundle 380.0</td>\n",
       "      <td>0.7</td>\n",
       "      <td>3396.205223</td>\n",
       "      <td>740.896662</td>\n",
       "      <td>0.0</td>\n",
       "      <td>0.0</td>\n",
       "      <td>0.0</td>\n",
       "      <td>0.0</td>\n",
       "      <td>False</td>\n",
       "      <td>0.0</td>\n",
       "      <td>inf</td>\n",
       "      <td>0</td>\n",
       "      <td>inf</td>\n",
       "      <td></td>\n",
       "      <td>1.0</td>\n",
       "      <td>-inf</td>\n",
       "      <td>inf</td>\n",
       "      <td></td>\n",
       "      <td>0.0</td>\n",
       "      <td>0.0</td>\n",
       "      <td>0.0</td>\n",
       "      <td>0.0</td>\n",
       "      <td>0.0</td>\n",
       "      <td>0.0</td>\n",
       "      <td>0.0</td>\n",
       "    </tr>\n",
       "  </tbody>\n",
       "</table>\n",
       "</div>"
      ],
      "text/plain": [
       "       bus0  bus1  v_nom  num_parallel     length  underground  \\\n",
       "Line                                                             \n",
       "8968   1771  1774    220           1.0  43.467839        False   \n",
       "9005   2774  2776    220           1.0  11.705938        False   \n",
       "9316   3576  3577    220           1.0  10.765484        False   \n",
       "11229  3792  3794    380           2.0  20.533361        False   \n",
       "11228  3793  3794    380           2.0  14.408688        False   \n",
       "\n",
       "       under_construction tags  \\\n",
       "Line                             \n",
       "8968                False        \n",
       "9005                False        \n",
       "9316                False        \n",
       "11229               False        \n",
       "11228               False        \n",
       "\n",
       "                                                geometry  \\\n",
       "Line                                                       \n",
       "8968   LINESTRING(-6.96214005610054 38.9081662916356,...   \n",
       "9005   LINESTRING(-1.00930817295372 41.3431267158445,...   \n",
       "9316   LINESTRING(7.05226243630703 47.8010466193602,7...   \n",
       "11229  LINESTRING(10.2047502877043 48.6231969454801,1...   \n",
       "11228  LINESTRING(10.1706712730649 48.4950605419181,1...   \n",
       "\n",
       "                              type  s_max_pu        s_nom  capital_cost    x  \\\n",
       "Line                                                                           \n",
       "8968   Al/St 240/40 2-bundle 220.0       0.7   491.556019   2235.122095  0.0   \n",
       "9005   Al/St 240/40 2-bundle 220.0       0.7   491.556019    601.920908  0.0   \n",
       "9316   Al/St 240/40 2-bundle 220.0       0.7   491.556019    553.562611  0.0   \n",
       "11229  Al/St 240/40 4-bundle 380.0       0.7  3396.205223   1055.828178  0.0   \n",
       "11228  Al/St 240/40 4-bundle 380.0       0.7  3396.205223    740.896662  0.0   \n",
       "\n",
       "         r    g    b  s_nom_extendable  s_nom_min  s_nom_max  build_year  \\\n",
       "Line                                                                       \n",
       "8968   0.0  0.0  0.0             False        0.0        inf           0   \n",
       "9005   0.0  0.0  0.0             False        0.0        inf           0   \n",
       "9316   0.0  0.0  0.0             False        0.0        inf           0   \n",
       "11229  0.0  0.0  0.0             False        0.0        inf           0   \n",
       "11228  0.0  0.0  0.0             False        0.0        inf           0   \n",
       "\n",
       "       lifetime carrier  terrain_factor  v_ang_min  v_ang_max sub_network  \\\n",
       "Line                                                                        \n",
       "8968        inf                     1.0       -inf        inf               \n",
       "9005        inf                     1.0       -inf        inf               \n",
       "9316        inf                     1.0       -inf        inf               \n",
       "11229       inf                     1.0       -inf        inf               \n",
       "11228       inf                     1.0       -inf        inf               \n",
       "\n",
       "       x_pu  r_pu  g_pu  b_pu  x_pu_eff  r_pu_eff  s_nom_opt  \n",
       "Line                                                          \n",
       "8968    0.0   0.0   0.0   0.0       0.0       0.0        0.0  \n",
       "9005    0.0   0.0   0.0   0.0       0.0       0.0        0.0  \n",
       "9316    0.0   0.0   0.0   0.0       0.0       0.0        0.0  \n",
       "11229   0.0   0.0   0.0   0.0       0.0       0.0        0.0  \n",
       "11228   0.0   0.0   0.0   0.0       0.0       0.0        0.0  "
      ]
     },
     "execution_count": 4,
     "metadata": {},
     "output_type": "execute_result"
    }
   ],
   "source": [
    "entsoe_nc.lines.head()"
   ]
  },
  {
   "cell_type": "code",
   "execution_count": 5,
   "metadata": {},
   "outputs": [],
   "source": [
    "# networks\n",
    "de_base_nc_file = \"osm_data_validation_AT_MK_IT_DE/networks/DE/base.nc\"\n",
    "it_base_nc_file = \"osm_data_validation_AT_MK_IT_DE/networks/IT/base.nc\"\n",
    "\n",
    "# resources\n",
    "de_base_csv_file = \"osm_data_validation_AT_MK_IT_DE/resources/DE/base_network/all_lines_build_network.csv\"\n",
    "it_base_csv_file = \"osm_data_validation_AT_MK_IT_DE/resources/IT/base_network/all_lines_build_network.csv\"\n",
    "\n",
    "de_country_shape_file = \"osm_data_validation_AT_MK_IT_DE/resources/DE/shapes/country_shapes.geojson\"\n",
    "it_country_shape_file = \"osm_data_validation_AT_MK_IT_DE/resources/IT/shapes/country_shapes.geojson\""
   ]
  },
  {
   "cell_type": "code",
   "execution_count": 6,
   "metadata": {},
   "outputs": [
    {
     "name": "stderr",
     "output_type": "stream",
     "text": [
      "INFO:pypsa.io:Imported network base.nc has buses, lines, links, transformers\n",
      "INFO:pypsa.io:Imported network base.nc has buses, lines, links, transformers\n"
     ]
    }
   ],
   "source": [
    "de_base_nc = pypsa.Network(de_base_nc_file)\n",
    "it_base_nc = pypsa.Network(it_base_nc_file)\n",
    "\n",
    "de_base_csv = pd.read_csv(de_base_csv_file)\n",
    "it_base_csv = pd.read_csv(it_base_csv_file)"
   ]
  },
  {
   "cell_type": "code",
   "execution_count": 7,
   "metadata": {},
   "outputs": [],
   "source": [
    "de_country_shape = gpd.read_file(de_country_shape_file)\n",
    "it_country_shape = gpd.read_file(it_country_shape_file)"
   ]
  },
  {
   "cell_type": "code",
   "execution_count": 8,
   "metadata": {},
   "outputs": [],
   "source": [
    "# load entsoe line.csv with pandas dataframe\n",
    "entsoe_ref_csv = pd.read_csv(\"entsoe_lines_ref.csv\", delimiter=\",\", quotechar=\"'\")\n",
    "\n",
    "# apply well known text(wkt) to format the geometry column properly\n",
    "entsoe_ref_csv[\"geometry\"] = entsoe_ref_csv.geometry.apply(wkt.loads)\n",
    "\n",
    "# load the data into a geopandas dataframe and format it using a compatible crs\n",
    "entsoe = gpd.GeoDataFrame(entsoe_ref_csv, geometry=\"geometry\", crs=\"EPSG:3035\")\n",
    "\n",
    "# convert voltage from kV to V\n",
    "entsoe[\"voltage\"] = entsoe.voltage * 1000"
   ]
  },
  {
   "cell_type": "code",
   "execution_count": 9,
   "metadata": {},
   "outputs": [],
   "source": [
    "def if_country_in_entsoe(country_df: gpd.GeoDataFrame, base_data: gpd.GeoDataFrame) -> pd.Series:\n",
    "    \"\"\"\n",
    "    Function checks if country_df is present in enstoe data\n",
    "    \"\"\"\n",
    "    x = base_data[\"geometry\"].apply(lambda row: row.within(country_df[\"geometry\"][0]))\n",
    "    return x\n",
    "\n",
    "def get_i_nom_by_voltage(voltage_value: int) -> int:\n",
    "\n",
    "    voltage_dict = {\n",
    "        \"220\" : 1.29, # \"Al/St 240/40 2-bundle 220.0\"\n",
    "        \"300\" : 1.935, # \"Al/St 240/40 3-bundle 300.0,\"\n",
    "        \"380\" : 2.58 # \"Al/St 240/40 4-bundle 380.0\"\n",
    "    }\n",
    "\n",
    "    if voltage_value <= 220000:\n",
    "        current = voltage_dict[\"220\"]\n",
    "    # elif voltage_value >= 220000 and voltage_value <= 300000:\n",
    "    #     current = voltage_dict[\"300\"]\n",
    "    elif voltage_value > 220000:\n",
    "        current = voltage_dict[\"380\"]\n",
    "\n",
    "    return current # units in kA\n",
    "\n",
    "def calculate_s_nom(df: gpd.GeoDataFrame) -> gpd.GeoDataFrame:\n",
    "    # s_nom = sqrt(3) * v_nom(V) * i_nom(MA)\n",
    "    # divide voltage by 1e3 to convert it to kV\n",
    "    \n",
    "    df[\"i_nom\"] = df[\"voltage\"].apply(get_i_nom_by_voltage)\n",
    "    df[\"s_nom\"] = df[\"voltage\"].apply(lambda row: (row / 1e3) * np.sqrt(3) * get_i_nom_by_voltage(row))\n",
    "    # s_nom units in ???\n",
    "\n",
    "    return df\n",
    "    "
   ]
  },
  {
   "cell_type": "code",
   "execution_count": 10,
   "metadata": {},
   "outputs": [
    {
     "data": {
      "text/plain": [
       "(4875, 21)"
      ]
     },
     "execution_count": 10,
     "metadata": {},
     "output_type": "execute_result"
    }
   ],
   "source": [
    "de_base_csv.shape"
   ]
  },
  {
   "cell_type": "code",
   "execution_count": 11,
   "metadata": {},
   "outputs": [
    {
     "data": {
      "text/plain": [
       "(4861, 45)"
      ]
     },
     "execution_count": 11,
     "metadata": {},
     "output_type": "execute_result"
    }
   ],
   "source": [
    "de_base_nc.lines.shape"
   ]
  },
  {
   "cell_type": "code",
   "execution_count": 12,
   "metadata": {},
   "outputs": [],
   "source": [
    "de_base_csv_s_nom = calculate_s_nom(de_base_csv)\n",
    "it_base_csv_s_nom = calculate_s_nom(it_base_csv)"
   ]
  },
  {
   "cell_type": "code",
   "execution_count": 13,
   "metadata": {},
   "outputs": [
    {
     "data": {
      "text/plain": [
       "1.29    4205\n",
       "2.58     670\n",
       "Name: i_nom, dtype: int64"
      ]
     },
     "execution_count": 13,
     "metadata": {},
     "output_type": "execute_result"
    }
   ],
   "source": [
    "de_base_csv_s_nom.i_nom.value_counts()"
   ]
  },
  {
   "cell_type": "code",
   "execution_count": 14,
   "metadata": {},
   "outputs": [
    {
     "data": {
      "text/plain": [
       "1.29    4205\n",
       "2.58     656\n",
       "Name: type, dtype: int64"
      ]
     },
     "execution_count": 14,
     "metadata": {},
     "output_type": "execute_result"
    }
   ],
   "source": [
    "de_base_nc.lines.type.map(de_base_nc.line_types.i_nom).value_counts()"
   ]
  },
  {
   "cell_type": "code",
   "execution_count": 15,
   "metadata": {},
   "outputs": [],
   "source": [
    "entsoe[\"if_de\"] = if_country_in_entsoe(de_country_shape, entsoe)\n",
    "entsoe[\"if_it\"] = if_country_in_entsoe(it_country_shape, entsoe)"
   ]
  },
  {
   "cell_type": "code",
   "execution_count": 16,
   "metadata": {},
   "outputs": [
    {
     "data": {
      "text/plain": [
       "3180948.3739875257"
      ]
     },
     "execution_count": 16,
     "metadata": {},
     "output_type": "execute_result"
    }
   ],
   "source": [
    "# https://github.com/pypsa-meets-earth/pypsa-earth/blob/2482704c0c413a625107f4c68c41e4f9481e0b08/scripts/base_network.py#L353\n",
    "de_base_nc_s_som_sum = (de_base_nc.lines.s_nom / de_base_nc.lines.num_parallel).sum() # removing the effect of num_parallel\n",
    "de_base_nc_s_som_sum"
   ]
  },
  {
   "cell_type": "code",
   "execution_count": 17,
   "metadata": {},
   "outputs": [
    {
     "data": {
      "text/plain": [
       "2269744.278182016"
      ]
     },
     "execution_count": 17,
     "metadata": {},
     "output_type": "execute_result"
    }
   ],
   "source": [
    "de_base_csv_s_som_sum = de_base_csv_s_nom.s_nom.sum()\n",
    "de_base_csv_s_som_sum"
   ]
  },
  {
   "cell_type": "code",
   "execution_count": 18,
   "metadata": {},
   "outputs": [
    {
     "data": {
      "image/png": "[encoded data removed]",
      "text/plain": [
       "<Figure size 1500x500 with 1 Axes>"
      ]
     },
     "metadata": {},
     "output_type": "display_data"
    }
   ],
   "source": [
    "plt.figure(figsize=(15,5))\n",
    "plt.bar([\"base_csv\", \"base_nc\"], [de_base_csv_s_som_sum, de_base_nc.lines.s_nom.sum()])\n",
    "plt.title(\"s_nom comparison between base.nc and base_network_csv for DE without considering num_parallel\")\n",
    "plt.ylabel(\"kVA\")\n",
    "plt.show()"
   ]
  },
  {
   "cell_type": "code",
   "execution_count": 19,
   "metadata": {},
   "outputs": [
    {
     "data": {
      "image/png": "[encoded data removed]",
      "text/plain": [
       "<Figure size 1500x500 with 1 Axes>"
      ]
     },
     "metadata": {},
     "output_type": "display_data"
    }
   ],
   "source": [
    "plt.figure(figsize=(15,5))\n",
    "plt.bar([\"base_csv\", \"base_nc\"], [de_base_csv_s_som_sum, de_base_nc_s_som_sum])\n",
    "plt.title(\"s_nom comparison between base.nc and base_network_csv for DE considering num_parallel\")\n",
    "plt.ylabel(\"kVA\")\n",
    "plt.show()"
   ]
  },
  {
   "cell_type": "code",
   "execution_count": 20,
   "metadata": {},
   "outputs": [
    {
     "data": {
      "text/plain": [
       "153343515.04116735"
      ]
     },
     "execution_count": 20,
     "metadata": {},
     "output_type": "execute_result"
    }
   ],
   "source": [
    "de_nc_s_nom_sum = (de_base_nc.lines.s_nom * de_base_nc.lines.length).sum()\n",
    "de_nc_s_nom_sum"
   ]
  },
  {
   "cell_type": "code",
   "execution_count": 21,
   "metadata": {},
   "outputs": [
    {
     "data": {
      "text/plain": [
       "1.29    4205\n",
       "2.58     656\n",
       "Name: type, dtype: int64"
      ]
     },
     "execution_count": 21,
     "metadata": {},
     "output_type": "execute_result"
    }
   ],
   "source": [
    "de_base_nc.lines.type.map(de_base_nc.line_types.i_nom).value_counts()"
   ]
  },
  {
   "cell_type": "code",
   "execution_count": 22,
   "metadata": {},
   "outputs": [
    {
     "data": {
      "text/plain": [
       "220.0    4205\n",
       "380.0     656\n",
       "Name: v_nom, dtype: int64"
      ]
     },
     "execution_count": 22,
     "metadata": {},
     "output_type": "execute_result"
    }
   ],
   "source": [
    "de_base_nc.lines.v_nom.value_counts()"
   ]
  },
  {
   "cell_type": "code",
   "execution_count": 23,
   "metadata": {},
   "outputs": [
    {
     "data": {
      "text/plain": [
       "50519885.79186985"
      ]
     },
     "execution_count": 23,
     "metadata": {},
     "output_type": "execute_result"
    }
   ],
   "source": [
    "de_base_s_nom_sum = (de_base_csv_s_nom.s_nom * (de_base_csv_s_nom.length / 1000)).sum() #units in MVA\n",
    "de_base_s_nom_sum"
   ]
  },
  {
   "cell_type": "markdown",
   "metadata": {},
   "source": [
    "### Length Comparison"
   ]
  },
  {
   "cell_type": "code",
   "execution_count": 24,
   "metadata": {},
   "outputs": [
    {
     "data": {
      "text/plain": [
       "29737.03489177709"
      ]
     },
     "execution_count": 24,
     "metadata": {},
     "output_type": "execute_result"
    }
   ],
   "source": [
    "de_base_len = de_base_csv_s_nom[de_base_csv_s_nom.voltage >= 220000].length.sum() / 1000\n",
    "de_base_len"
   ]
  },
  {
   "cell_type": "code",
   "execution_count": 25,
   "metadata": {},
   "outputs": [
    {
     "data": {
      "text/plain": [
       "81216.86740594925"
      ]
     },
     "execution_count": 25,
     "metadata": {},
     "output_type": "execute_result"
    }
   ],
   "source": [
    "de_nc_len = de_base_nc.lines.length.sum()\n",
    "de_nc_len"
   ]
  },
  {
   "cell_type": "code",
   "execution_count": 26,
   "metadata": {},
   "outputs": [
    {
     "data": {
      "text/plain": [
       "<BarContainer object of 2 artists>"
      ]
     },
     "execution_count": 26,
     "metadata": {},
     "output_type": "execute_result"
    },
    {
     "data": {
      "image/png": "[encoded data removed]",
      "text/plain": [
       "<Figure size 640x480 with 1 Axes>"
      ]
     },
     "metadata": {},
     "output_type": "display_data"
    }
   ],
   "source": [
    "plt.bar([\"base_nc\", \"base_csv\"], [de_nc_len, de_base_len])"
   ]
  },
  {
   "cell_type": "code",
   "execution_count": 27,
   "metadata": {},
   "outputs": [
    {
     "data": {
      "text/plain": [
       "25900.686384993845"
      ]
     },
     "execution_count": 27,
     "metadata": {},
     "output_type": "execute_result"
    }
   ],
   "source": [
    "it_base_len = it_base_csv_s_nom[it_base_csv_s_nom.voltage >= 220000].length.sum() / 1000\n",
    "it_base_len"
   ]
  },
  {
   "cell_type": "code",
   "execution_count": 28,
   "metadata": {},
   "outputs": [
    {
     "data": {
      "text/plain": [
       "76733.79762755937"
      ]
     },
     "execution_count": 28,
     "metadata": {},
     "output_type": "execute_result"
    }
   ],
   "source": [
    "it_nc_len = it_base_nc.lines.length.sum()\n",
    "it_nc_len"
   ]
  },
  {
   "cell_type": "code",
   "execution_count": 29,
   "metadata": {},
   "outputs": [
    {
     "data": {
      "text/plain": [
       "<BarContainer object of 2 artists>"
      ]
     },
     "execution_count": 29,
     "metadata": {},
     "output_type": "execute_result"
    },
    {
     "data": {
      "image/png": "[encoded data removed]",
      "text/plain": [
       "<Figure size 640x480 with 1 Axes>"
      ]
     },
     "metadata": {},
     "output_type": "display_data"
    }
   ],
   "source": [
    "plt.bar([\"base_nc\", \"base_csv\"], [it_nc_len, it_base_len])"
   ]
  }
 ],
 "metadata": {
  "kernelspec": {
   "display_name": "pypsa-earth",
   "language": "python",
   "name": "python3"
  },
  "language_info": {
   "codemirror_mode": {
    "name": "ipython",
    "version": 3
   },
   "file_extension": ".py",
   "mimetype": "text/x-python",
   "name": "python",
   "nbconvert_exporter": "python",
   "pygments_lexer": "ipython3",
   "version": "3.10.12"
  }
 },
 "nbformat": 4,
 "nbformat_minor": 2
}
